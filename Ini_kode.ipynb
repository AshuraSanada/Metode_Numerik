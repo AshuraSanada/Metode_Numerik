{
  "nbformat": 4,
  "nbformat_minor": 0,
  "metadata": {
    "colab": {
      "provenance": [],
      "authorship_tag": "ABX9TyOf6w73Jemg3PYatYZucXOi",
      "include_colab_link": true
    },
    "kernelspec": {
      "name": "python3",
      "display_name": "Python 3"
    },
    "language_info": {
      "name": "python"
    }
  },
  "cells": [
    {
      "cell_type": "markdown",
      "metadata": {
        "id": "view-in-github",
        "colab_type": "text"
      },
      "source": [
        "<a href=\"https://colab.research.google.com/github/AshuraSanada/Metode_Numerik/blob/main/Ini_kode.ipynb\" target=\"_parent\"><img src=\"https://colab.research.google.com/assets/colab-badge.svg\" alt=\"Open In Colab\"/></a>"
      ]
    },
    {
      "cell_type": "code",
      "execution_count": null,
      "metadata": {
        "id": "a4mqDzJM0ogf"
      },
      "outputs": [],
      "source": [
        "for j = n\n",
        "  for i = j\n",
        "  p = 0\n",
        "  for k = i - 1\n",
        "    p = p + l.(i.k)u(k.i)\n",
        "  u(i.j) = a(i.j) - p\n",
        "  if i < j\n",
        "    l(i.j) = 0\n",
        "  else\n",
        "    l(i.j) = 1"
      ]
    },
    {
      "cell_type": "code",
      "source": [
        "i = 1\n",
        "  while i < n\n",
        "    p = 0, k = 1\n",
        "    while k < i\n",
        "      p = p + l(i.k).y(k)\n",
        "      k = k + 1\n",
        "    y(i) = b(i) - p\n",
        "    i = i + 1"
      ],
      "metadata": {
        "id": "mOoCnZC218_0"
      },
      "execution_count": null,
      "outputs": []
    }
  ]
}