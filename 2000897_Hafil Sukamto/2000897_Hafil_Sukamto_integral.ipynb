{
  "nbformat": 4,
  "nbformat_minor": 0,
  "metadata": {
    "colab": {
      "provenance": []
    },
    "kernelspec": {
      "name": "python3",
      "display_name": "Python 3"
    },
    "language_info": {
      "name": "python"
    }
  },
  "cells": [
    {
      "cell_type": "markdown",
      "source": [
        "**Integral Trapesium**"
      ],
      "metadata": {
        "id": "g-Bgq7S5n6KQ"
      }
    },
    {
      "cell_type": "code",
      "execution_count": null,
      "metadata": {
        "id": "w3WpPFUxnWAH"
      },
      "outputs": [],
      "source": [
        "import sympy as sp\n",
        "\n",
        "def integral_trapesium(f, a, b, n):\n",
        "    # Menghitung integral dari fungsi menggunakan metode trapesium\n",
        "    x = sp.symbols('x')\n",
        "    h = (b - a) / n\n",
        "    integral = 0.5 * (f.subs(x, a) + f.subs(x, b))\n",
        "\n",
        "    for i in range(1, n):\n",
        "        integral += f.subs(x, a + i * h)\n",
        "\n",
        "    integral *= h\n",
        "    return integral\n",
        "\n",
        "# Input fungsi dari pengguna\n",
        "try:\n",
        "    fungsi_input = input(\"Masukkan fungsi F(x): \")\n",
        "    x = sp.symbols('x')\n",
        "    fungsi = sp.sympify(fungsi_input)\n",
        "    # Validasi apakah fungsi valid\n",
        "    sp.integrate(fungsi, x)\n",
        "except (sp.SympifyError, ValueError):\n",
        "    print(\"Fungsi yang dimasukkan tidak valid.\")\n",
        "else:\n",
        "    # Input batas-batas integral dan jumlah partisi\n",
        "    batas_bawah = float(input(\"Masukkan batas bawah: \"))\n",
        "    batas_atas = float(input(\"Masukkan batas atas: \"))\n",
        "    jumlah_partisi = int(input(\"Masukkan jumlah partisi: \"))\n",
        "\n",
        "    # Hitung integral menggunakan metode trapesium\n",
        "    hasil_integral = integral_trapesium(fungsi, batas_bawah, batas_atas, jumlah_partisi)\n",
        "    print(f\"Hasil integral: {hasil_integral}\")\n"
      ]
    },
    {
      "cell_type": "markdown",
      "source": [
        "**Integral Simpson's**"
      ],
      "metadata": {
        "id": "1xu9pz4Fn9jR"
      }
    },
    {
      "cell_type": "code",
      "source": [
        "import sympy as sp\n",
        "\n",
        "def fungsi(x):\n",
        "    # Definisikan fungsi F(x) di sini\n",
        "    return x**2 + 2*x + 1\n",
        "\n",
        "def integral_simpsons_1_3(f, a, b, n):\n",
        "    # Menghitung integral dari fungsi menggunakan metode Simpson's 1/3\n",
        "    h = (b - a) / n\n",
        "    integral = f(a) + f(b)\n",
        "\n",
        "    for i in range(1, n):\n",
        "        if i % 2 == 0:\n",
        "            integral += 2 * f(a + i * h)\n",
        "        else:\n",
        "            integral += 4 * f(a + i * h)\n",
        "\n",
        "    integral *= h / 3\n",
        "    return integral\n",
        "\n",
        "# Input fungsi dari pengguna\n",
        "try:\n",
        "    fungsi_input = input(\"Masukkan fungsi F(x): \")\n",
        "    x = sp.symbols('x')\n",
        "    fungsi = sp.sympify(fungsi_input)\n",
        "    # Validasi apakah fungsi valid\n",
        "    sp.integrate(fungsi, x)\n",
        "except (sp.SympifyError, ValueError):\n",
        "    print(\"Fungsi yang dimasukkan tidak valid.\")\n",
        "else:\n",
        "    # Input batas-batas integral dan jumlah partisi\n",
        "    batas_bawah = float(input(\"Masukkan batas bawah: \"))\n",
        "    batas_atas = float(input(\"Masukkan batas atas: \"))\n",
        "    jumlah_partisi = int(input(\"Masukkan jumlah partisi (harus genap): \"))\n",
        "\n",
        "    if jumlah_partisi % 2 != 0:\n",
        "        print(\"Jumlah partisi harus merupakan bilangan genap untuk metode Simpson's 1/3.\")\n",
        "    else:\n",
        "        # Hitung integral menggunakan metode Simpson's 1/3\n",
        "        hasil_integral = integral_simpsons_1_3(fungsi, batas_bawah, batas_atas, jumlah_partisi)\n",
        "        print(f\"Hasil integral: {hasil_integral}\")\n"
      ],
      "metadata": {
        "id": "LXKv-bBtoJRP"
      },
      "execution_count": null,
      "outputs": []
    }
  ]
}