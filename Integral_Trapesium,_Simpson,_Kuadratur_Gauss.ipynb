{
  "nbformat": 4,
  "nbformat_minor": 0,
  "metadata": {
    "colab": {
      "provenance": [],
      "authorship_tag": "ABX9TyPgnAcmDxdTbG5QCjqs2j3i",
      "include_colab_link": true
    },
    "kernelspec": {
      "name": "python3",
      "display_name": "Python 3"
    },
    "language_info": {
      "name": "python"
    }
  },
  "cells": [
    {
      "cell_type": "markdown",
      "metadata": {
        "id": "view-in-github",
        "colab_type": "text"
      },
      "source": [
        "<a href=\"https://colab.research.google.com/github/AshuraSanada/Metode_Numerik/blob/Irsyad-Aflaha-Shobirin/Integral_Trapesium%2C_Simpson%2C_Kuadratur_Gauss.ipynb\" target=\"_parent\"><img src=\"https://colab.research.google.com/assets/colab-badge.svg\" alt=\"Open In Colab\"/></a>"
      ]
    },
    {
      "cell_type": "code",
      "execution_count": null,
      "metadata": {
        "id": "Z4Sqso7CnCnn"
      },
      "outputs": [],
      "source": [
        "import numpy as np\n",
        "from scipy.integrate import quad\n",
        "\n",
        "def trapezoidal_rule(f, a, b, n):\n",
        "    h = (b - a) / n\n",
        "    integral = 0.5 * (f(a) + f(b))\n",
        "    for i in range(1, n):\n",
        "        integral += f(a + i * h)\n",
        "    integral *= h\n",
        "    return integral\n",
        "\n",
        "def simpson_rule(f, a, b, n):\n",
        "    h = (b - a) / n\n",
        "    integral = f(a) + f(b)\n",
        "    for i in range(1, n):\n",
        "        if i % 2 == 0:\n",
        "            integral += 2 * f(a + i * h)\n",
        "        else:\n",
        "            integral += 4 * f(a + i * h)\n",
        "    integral *= h / 3\n",
        "    return integral\n",
        "\n",
        "def gauss_quadrature(f, a, b, n):\n",
        "    nodes, weights = np.polynomial.legendre.leggauss(n)\n",
        "    integral = 0.0\n",
        "    for i in range(n):\n",
        "        integral += weights[i] * f(0.5 * (b - a) * nodes[i] + 0.5 * (a + b))\n",
        "    integral *= 0.5 * (b - a)\n",
        "    return integral\n",
        "\n",
        "# Contoh penggunaan\n",
        "def f(x):\n",
        "    return x**2  # Ganti dengan fungsi yang ingin diintegral\n",
        "\n",
        "a = 0\n",
        "b = 1\n",
        "n_trapezoidal = 100\n",
        "n_simpson = 100\n",
        "n_gauss = 3\n",
        "\n",
        "result_trapezoidal = trapezoidal_rule(f, a, b, n_trapezoidal)\n",
        "result_simpson = simpson_rule(f, a, b, n_simpson)\n",
        "result_gauss, _ = quad(f, a, b)  # Menggunakan fungsi quad dari SciPy untuk metode Gauss\n",
        "\n",
        "print(f\"Hasil integral (trapesium): {result_trapezoidal}\")\n",
        "print(f\"Hasil integral (Simpson): {result_simpson}\")\n",
        "print(f\"Hasil integral (Gauss): {result_gauss}\")\n"
      ]
    }
  ]
}