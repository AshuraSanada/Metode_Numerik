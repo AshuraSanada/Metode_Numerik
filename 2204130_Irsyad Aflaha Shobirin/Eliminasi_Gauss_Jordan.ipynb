{
  "nbformat": 4,
  "nbformat_minor": 0,
  "metadata": {
    "colab": {
      "provenance": []
    },
    "kernelspec": {
      "name": "python3",
      "display_name": "Python 3"
    },
    "language_info": {
      "name": "python"
    }
  },
  "cells": [
    {
      "cell_type": "markdown",
      "source": [],
      "metadata": {
        "id": "yepiJVOwjMdW"
      }
    },
    {
      "cell_type": "code",
      "source": [
        "import numpy as np\n",
        "\n",
        "# Fungsi untuk mencetak matriks\n",
        "def print_matrix(matrix):\n",
        "    for row in matrix:\n",
        "        print(row)\n",
        "\n",
        "# Fungsi eliminasi Gauss-Jordan\n",
        "def gauss_jordan(matrix):\n",
        "    n = len(matrix)\n",
        "\n",
        "    for i in range(n):\n",
        "        # Normalisasi baris i\n",
        "        pivot = matrix[i][i]\n",
        "        for j in range(i, n + 1):\n",
        "            matrix[i][j] /= pivot\n",
        "\n",
        "        # Menghilangkan elemen-elemen di bawah pivot\n",
        "        for k in range(n):\n",
        "            if k != i:\n",
        "                factor = matrix[k][i]\n",
        "                for j in range(i, n + 1):\n",
        "                    matrix[k][j] -= factor * matrix[i][j]\n",
        "\n",
        "    return [row[-1] for row in matrix]  # Hasil solusi\n",
        "\n",
        "# Meminta pengguna untuk memasukkan matriks augmented\n",
        "n = int(input(\"Masukkan ukuran matriks (n): \"))\n",
        "augmented_matrix = []\n",
        "\n",
        "print(\"Masukkan elemen-elemen matriks augmented (n x (n + 1)):\")\n",
        "for _ in range(n):\n",
        "    row = list(map(float, input().split()))\n",
        "    augmented_matrix.append(row)\n",
        "\n",
        "# Menyelesaikan matriks augmented menggunakan eliminasi Gauss-Jordan\n",
        "solution = gauss_jordan(augmented_matrix)\n",
        "\n",
        "print(\"\\nHasil Solusi:\")\n",
        "print(solution)\n"
      ],
      "metadata": {
        "colab": {
          "base_uri": "https://localhost:8080/"
        },
        "id": "dlmY-kPnjMxl",
        "outputId": "cce0696e-957e-4b4d-828c-93eff3581f41"
      },
      "execution_count": 3,
      "outputs": [
        {
          "output_type": "stream",
          "name": "stdout",
          "text": [
            "Masukkan ukuran matriks (n): 3\n",
            "Masukkan elemen-elemen matriks augmented (n x (n + 1)):\n",
            "4 2 4 10\n",
            "2 8 7 13\n",
            "1 4 8 18\n",
            "\n",
            "Hasil Solusi:\n",
            "[0.28571428571428603, -0.6825396825396826, 2.5555555555555554]\n"
          ]
        }
      ]
    }
  ]
}