{
  "nbformat": 4,
  "nbformat_minor": 0,
  "metadata": {
    "colab": {
      "provenance": []
    },
    "kernelspec": {
      "name": "python3",
      "display_name": "Python 3"
    },
    "language_info": {
      "name": "python"
    }
  },
  "cells": [
    {
      "cell_type": "code",
      "execution_count": null,
      "metadata": {
        "colab": {
          "base_uri": "https://localhost:8080/"
        },
        "id": "_QtOO34PmpwA",
        "outputId": "d7796af7-5789-4dcd-b71c-4caac3d6e9f7"
      },
      "outputs": [
        {
          "output_type": "stream",
          "name": "stdout",
          "text": [
            "Nilai fungsi di titik 5 (interpolasi): 19.6\n"
          ]
        }
      ],
      "source": [
        "def newton_forward_difference_coefficients(x_values, y_values):\n",
        "    \"\"\"\n",
        "    Menghitung koefisien-kofisien polinom Newton dengan selisih maju.\n",
        "\n",
        "    :param x_values: List nilai x (titik-titik data)\n",
        "    :param y_values: List nilai y (nilai fungsi pada titik-titik data)\n",
        "    :return: List koefisien polinom Newton\n",
        "    \"\"\"\n",
        "    n = len(x_values)\n",
        "    coefficients = [y_values]\n",
        "\n",
        "    for j in range(1, n):\n",
        "        next_row = []\n",
        "        for i in range(n - j):\n",
        "            next_row.append((coefficients[j - 1][i + 1] - coefficients[j - 1][i]) / (x_values[i + j] - x_values[i]))\n",
        "        coefficients.append(next_row)\n",
        "\n",
        "    return [row[0] for row in coefficients]\n",
        "\n",
        "def newton_forward_difference_interpolation(x_values, y_values, x):\n",
        "    \"\"\"\n",
        "    Menghitung nilai fungsi interpolasi pada titik x menggunakan polinom Newton dengan selisih maju.\n",
        "\n",
        "    :param x_values: List nilai x (titik-titik data)\n",
        "    :param y_values: List nilai y (nilai fungsi pada titik-titik data)\n",
        "    :param x: Titik di mana nilai fungsi diinterpolasi\n",
        "    :return: Nilai fungsi di titik x\n",
        "    \"\"\"\n",
        "    coefficients = newton_forward_difference_coefficients(x_values, y_values)\n",
        "    n = len(x_values)\n",
        "    result = coefficients[0]\n",
        "\n",
        "    for i in range(1, n):\n",
        "        term = 1\n",
        "        for j in range(i):\n",
        "            term *= (x - x_values[j])\n",
        "        result += coefficients[i] * term\n",
        "\n",
        "    return result\n",
        "\n",
        "# Contoh penggunaan\n",
        "x_values = [1, 2, 4, 7]\n",
        "y_values = [0, 2, 12, 39]\n",
        "\n",
        "x_interpolate = 5\n",
        "result = newton_forward_difference_interpolation(x_values, y_values, x_interpolate)\n",
        "\n",
        "print(f\"Nilai fungsi di titik {x_interpolate} (interpolasi): {result}\")\n"
      ]
    },
    {
      "cell_type": "code",
      "source": [
        "def newton_backward_difference_coefficients(x_values, y_values):\n",
        "    \"\"\"\n",
        "    Menghitung koefisien-kofisien polinom Newton dengan selisih mundur.\n",
        "\n",
        "    :param x_values: List nilai x (titik-titik data)\n",
        "    :param y_values: List nilai y (nilai fungsi pada titik-titik data)\n",
        "    :return: List koefisien polinom Newton\n",
        "    \"\"\"\n",
        "    n = len(x_values)\n",
        "    coefficients = [y_values]\n",
        "\n",
        "    for j in range(1, n):\n",
        "        next_row = []\n",
        "        for i in range(n - j):\n",
        "            next_row.append((coefficients[j - 1][i + 1] - coefficients[j - 1][i]) / (x_values[i + j] - x_values[i]))\n",
        "        coefficients.append(next_row)\n",
        "\n",
        "    return [row[0] for row in coefficients]\n",
        "\n",
        "def newton_backward_difference_interpolation(x_values, y_values, x):\n",
        "    \"\"\"\n",
        "    Menghitung nilai fungsi interpolasi pada titik x menggunakan polinom Newton dengan selisih mundur.\n",
        "\n",
        "    :param x_values: List nilai x (titik-titik data)\n",
        "    :param y_values: List nilai y (nilai fungsi pada titik-titik data)\n",
        "    :param x: Titik di mana nilai fungsi diinterpolasi\n",
        "    :return: Nilai fungsi di titik x\n",
        "    \"\"\"\n",
        "    coefficients = newton_backward_difference_coefficients(x_values, y_values)\n",
        "    n = len(x_values)\n",
        "    result = coefficients[0]\n",
        "\n",
        "    for i in range(1, n):\n",
        "        term = 1\n",
        "        for j in range(i):\n",
        "            term *= (x - x_values[n - 1 - j])\n",
        "        result += coefficients[i] * term\n",
        "\n",
        "    return result\n",
        "\n",
        "# Contoh penggunaan\n",
        "x_values = [1, 2, 4, 7]\n",
        "y_values = [0, 2, 12, 39]\n",
        "\n",
        "x_interpolate = 5\n",
        "result = newton_backward_difference_interpolation(x_values, y_values, x_interpolate)\n",
        "\n",
        "print(f\"Nilai fungsi di titik {x_interpolate} (interpolasi): {result}\")\n"
      ],
      "metadata": {
        "colab": {
          "base_uri": "https://localhost:8080/"
        },
        "id": "Zs-dFNTImsrf",
        "outputId": "bfde1625-37e4-442e-cf4a-4a9b710f9753"
      },
      "execution_count": null,
      "outputs": [
        {
          "output_type": "stream",
          "name": "stdout",
          "text": [
            "Nilai fungsi di titik 5 (interpolasi): -5.8\n"
          ]
        }
      ]
    },
    {
      "cell_type": "code",
      "source": [
        "def newton_central_difference_coefficients(x_values, y_values):\n",
        "    \"\"\"\n",
        "    Menghitung koefisien-kofisien polinom Newton dengan selisih pusat.\n",
        "\n",
        "    :param x_values: List nilai x (titik-titik data)\n",
        "    :param y_values: List nilai y (nilai fungsi pada titik-titik data)\n",
        "    :return: List koefisien polinom Newton\n",
        "    \"\"\"\n",
        "    n = len(x_values)\n",
        "    coefficients = [y_values]\n",
        "\n",
        "    for j in range(1, n):\n",
        "        next_row = []\n",
        "        for i in range(n - j):\n",
        "            next_row.append((coefficients[j - 1][i + 1] - coefficients[j - 1][i]) / (x_values[i + j] - x_values[i]))\n",
        "        coefficients.append(next_row)\n",
        "\n",
        "    return [row[0] for row in coefficients]\n",
        "\n",
        "def newton_central_difference_interpolation(x_values, y_values, x):\n",
        "    \"\"\"\n",
        "    Menghitung nilai fungsi interpolasi pada titik x menggunakan polinom Newton dengan selisih pusat.\n",
        "\n",
        "    :param x_values: List nilai x (titik-titik data)\n",
        "    :param y_values: List nilai y (nilai fungsi pada titik-titik data)\n",
        "    :param x: Titik di mana nilai fungsi diinterpolasi\n",
        "    :return: Nilai fungsi di titik x\n",
        "    \"\"\"\n",
        "    coefficients = newton_central_difference_coefficients(x_values, y_values)\n",
        "    n = len(x_values)\n",
        "    result = coefficients[0]\n",
        "\n",
        "    for i in range(1, n):\n",
        "        term = 1\n",
        "        for j in range(i):\n",
        "            term *= (x - x_values[n // 2 - j])\n",
        "        result += coefficients[i] * term\n",
        "\n",
        "    return result\n",
        "\n",
        "# Contoh penggunaan\n",
        "x_values = [1, 2, 4, 7]\n",
        "y_values = [0, 2, 12, 39]\n",
        "\n",
        "x_interpolate = 5\n",
        "result = newton_central_difference_interpolation(x_values, y_values, x_interpolate)\n",
        "\n",
        "print(f\"Nilai fungsi di titik {x_interpolate} (interpolasi): {result}\")\n"
      ],
      "metadata": {
        "colab": {
          "base_uri": "https://localhost:8080/"
        },
        "id": "_NvsfmXDmvVN",
        "outputId": "e9d76667-2888-4ae9-e393-2c2f33b3151e"
      },
      "execution_count": null,
      "outputs": [
        {
          "output_type": "stream",
          "name": "stdout",
          "text": [
            "Nilai fungsi di titik 5 (interpolasi): 4.6\n"
          ]
        }
      ]
    }
  ]
}