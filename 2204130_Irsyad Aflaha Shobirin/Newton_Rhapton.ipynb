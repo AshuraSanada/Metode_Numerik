{
  "nbformat": 4,
  "nbformat_minor": 0,
  "metadata": {
    "colab": {
      "provenance": []
    },
    "kernelspec": {
      "name": "python3",
      "display_name": "Python 3"
    },
    "language_info": {
      "name": "python"
    }
  },
  "cells": [
    {
      "cell_type": "code",
      "execution_count": null,
      "metadata": {
        "colab": {
          "base_uri": "https://localhost:8080/"
        },
        "id": "-nHtCytaj_iJ",
        "outputId": "6c68e433-a253-4cc7-df1f-ee636aaa9bf7"
      },
      "outputs": [
        {
          "output_type": "stream",
          "name": "stdout",
          "text": [
            "Hello, World!\n"
          ]
        }
      ],
      "source": [
        "import numphy as np\n",
        "import math\n",
        "\n",
        "f1 = input('masukan fungsi f(x) :')\n",
        "f = lambda x: eval(f1)\n",
        "\n",
        "g1 = input('masukan turunan fungsi f(x) :')\n",
        "g = lambda x: eval(g1)\n",
        "\n",
        "i = int(1)\n",
        "x0 = float(input(\"masukan tebakan awal :\")) #tebakan awal atau x0\n",
        "n = int(input(\"mau berapa literasi :\")) #mau berapa literasi atau bisa saja berhenti sebelum literasi berakhir.\n",
        "\n",
        "if g(x0) != 0 #cek supaya f'(x0) tidak boleh 0\n",
        "  x1 = float(0)\n",
        "  while i <= n\n",
        "    x1 = x0 - (f(x0)/g(x0)) #proses xi+1 = xi - (f(xi)/f'(xi))\n",
        "    print(\"pada literasi ke\" i \"menghasilkan x1 :\"x1)\n",
        "    if abs(x1 - x0) < e || abs(f(x1)) < e\n",
        "      c = float(x1)\n",
        "      break\n",
        "else\n",
        "  print(\"maaf untuk x0 pada fungsi ini,membuat proses penghitungan newton rhapton tak dapat dilakukan\")\n",
        "\n",
        "  print(\"maka diketahui c : \"c)"
      ]
    },
    {
      "cell_type": "markdown",
      "source": [
        "tolong buka di edit mode\n",
        "\n",
        "Algoritma\n",
        "\n",
        "\n",
        "  Input  : f(x) , f'(x) , e, n, x\n",
        "  \n",
        "  proses : 1. definisikan f(x) dan f'(x) sebagai sebah fungsi lamda x\n",
        "           2. definisikan i sebagai 1 lalu input seberapa banyak literasi rumus dilakukan\n",
        "           3. cek apakah f'(x) menghasilkan 0 atau tidak, jika iya maka proses berikutnya tidak dapat dilakukan\n",
        "           4. jika tidak maka masukan nilai x pada persamaan xi = x - (fx)/f'(x)\n",
        "           5. lalu cek kembali apakah |xi - x| < e atau |f(xi)|< e. jika salah satunya terpenuhi maka nilai xi menjadi c, jika tidak maka ulangi proses no 4 sebanyak n yang diinput"
      ],
      "metadata": {
        "id": "HwYl8qxowCPz"
      }
    },
    {
      "cell_type": "markdown",
      "source": [
        "Definisikan Fungsi X dan X' nya pada baris ini"
      ],
      "metadata": {
        "id": "Crot6VSZJKXY"
      }
    },
    {
      "cell_type": "code",
      "source": [
        "import numphy as np\n",
        "import math\n",
        "\n",
        "f1 = input('masukan fungsi f(x) :')\n",
        "f = lambda x: eval(f1)\n",
        "\n",
        "g1 = input('masukan turunan fungsi f(x) :')\n",
        "g = lambda x: eval(g1)"
      ],
      "metadata": {
        "id": "58v1RIU5JRc7"
      },
      "execution_count": null,
      "outputs": []
    },
    {
      "cell_type": "markdown",
      "source": [
        "Memasukan tebakan awal X0"
      ],
      "metadata": {
        "id": "FvL5nAhgJS9l"
      }
    },
    {
      "cell_type": "code",
      "source": [
        "i = int(1)\n",
        "x0 = float(input(\"masukan tebakan awal :\")) #tebakan awal atau x0"
      ],
      "metadata": {
        "id": "O8ttaEeFJY8G"
      },
      "execution_count": null,
      "outputs": []
    },
    {
      "cell_type": "markdown",
      "source": [
        "Program Full manual kecuali tuk fungsinya"
      ],
      "metadata": {
        "id": "h6edlGzEJcwp"
      }
    },
    {
      "cell_type": "code",
      "source": [
        "import numphy as np\n",
        "import matplotlib.pyplot as plt\n",
        "\n",
        "f1 = input('masukan fungsi f(x) :')\n",
        "f = lambda x: eval(f1)\n",
        "\n",
        "g1 = input('masukan turunan fungsi f(x) :')\n",
        "g = lambda x: eval(g1)\n",
        "\n",
        "i = int(1)\n",
        "x0 = float(input(\"masukan tebakan awal :\")) #tebakan awal atau x0\n",
        "n = int(input(\"mau berapa literasi :\")) #mau berapa literasi atau bisa saja berhenti sebelum literasi berakhir.\n",
        "\n",
        "if g(x0) != 0 #cek supaya f'(x0) tidak boleh 0\n",
        "  x1 = float(0)\n",
        "  while i <= n\n",
        "    x1 = x0 - (f(x0)/g(x0)) #proses xi+1 = xi - (f(xi)/f'(xi))\n",
        "    print(\"pada literasi ke\" i \"menghasilkan x1 :\"x1)\n",
        "    if abs(x1 - x0) < e || abs(f(x1)) < e\n",
        "      c = float(x1)\n",
        "      break\n",
        "else\n",
        "  print(\"maaf untuk x0 pada fungsi ini,membuat proses penghitungan newton rhapton tak dapat dilakukan\")\n",
        "\n",
        "  print(\"maka diketahui c : \"c)"
      ],
      "metadata": {
        "id": "XCLUujpTJkHP"
      },
      "execution_count": null,
      "outputs": []
    }
  ]
}