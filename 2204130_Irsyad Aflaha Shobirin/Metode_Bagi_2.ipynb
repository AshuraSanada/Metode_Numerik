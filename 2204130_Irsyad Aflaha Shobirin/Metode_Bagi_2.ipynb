{
  "nbformat": 4,
  "nbformat_minor": 0,
  "metadata": {
    "colab": {
      "provenance": []
    },
    "kernelspec": {
      "name": "python3",
      "display_name": "Python 3"
    },
    "language_info": {
      "name": "python"
    }
  },
  "cells": [
    {
      "cell_type": "markdown",
      "source": [
        "Program Dasar Metode Bagi 2"
      ],
      "metadata": {
        "id": "0BO_nM6yl18V"
      }
    },
    {
      "cell_type": "code",
      "execution_count": null,
      "metadata": {
        "id": "TmmqCVxVjcKO"
      },
      "outputs": [],
      "source": [
        "import numpy as np #panggil library\n",
        "\n",
        "fungsi = input('masukan fungsi f(x) :')#fungsi dibuat\n",
        "fungsi1 = lambda x: eval(fungsi)\n",
        "\n",
        "a = float(input(\"masukan nilai a :\")) #meninput sebuah nilai pada interval awal\n",
        "print(f(a))\n",
        "\n",
        "b = float(input(\"masukan nilai b :\")) #meninput sebuah nilai pada interval akhir\n",
        "print(f(b))\n",
        "\n",
        "E = float(input(\"masukan nilai potong :\")) #input tebakan nilai potong\n",
        "i = 1\n",
        "n = int(input(\"ingin berhenti pada literasi ke :\")) #berapa literasi\n",
        "\n",
        "\n",
        "while i<=n:\n",
        " print(\"literasi ke \",i)\n",
        " print(\"nilai a :\",a)\n",
        " print(\"nilai b :\",b)\n",
        " if f(a) * f(b) < 0 :\n",
        "   j = float(abs(a*b))\n",
        "   if j < e :\n",
        "       c = float((a+b)/2)\n",
        "       break\n",
        "   else:\n",
        "       Co = float((a+b)/2)\n",
        "       if f(a)*f(Co) < 0 :\n",
        "         b = Co\n",
        "       else :\n",
        "         a = Co\n",
        "\n",
        " else :\n",
        "  print(\"interval tidak dapat digunakan\")\n",
        " i+=1"
      ]
    },
    {
      "cell_type": "markdown",
      "source": [
        "CARA Mengganti fungsi pada program dengan merubah isi baris"
      ],
      "metadata": {
        "id": "hQVu2kCqkDE9"
      }
    },
    {
      "cell_type": "code",
      "source": [
        "import numpy as np #panggil library\n",
        "fungsi = input('masukan fungsi f(x) :')#fungsi dibuat\n",
        "fungsi1 = lambda x: eval(fungsi)"
      ],
      "metadata": {
        "id": "aOoSYsxbkclN"
      },
      "execution_count": null,
      "outputs": []
    },
    {
      "cell_type": "markdown",
      "source": [
        "TUGAS METODE NUMERIK NO 1"
      ],
      "metadata": {
        "id": "CfGRxzikl91b"
      }
    },
    {
      "cell_type": "code",
      "source": [
        "import numpy as np\n",
        "\n",
        "#fungsi solusi\n",
        "def solusi(f, a, b, e):\n",
        "  if np.sign(f(a)) == np.sign(f(b)):\n",
        "    raise Exception('Tidak ada akar pada interval a dan b')\n",
        "  m = (a + b)/2\n",
        "  if np.abs(f(m)) < e:\n",
        "    return m\n",
        "  elif np.sign(f(a)) == np.sign(f(m)):\n",
        "    return solusi(f, m, b, e)\n",
        "  elif np.sign(f(b)) == np.sign(f(m)):\n",
        "    return solusi(f, a, m, e)\n",
        "\n",
        "fungsi = input('masukan fungsi f(x) :')#fungsi dibuat\n",
        "fungsi1 = lambda x: eval(fungsi)\n",
        "\n",
        "invl_a = 1 #nilai interval awal\n",
        "invl_b = 10 #nilai interval akhir\n",
        "\n",
        "ttk_ptng = 1e-6\n",
        "\n",
        "#proses\n",
        "\n",
        "hasil = solusi(f,invl_a,invl_b,e)\n",
        "\n",
        "if hasil is not None:\n",
        "  print(f\"Akar yang ditemukan : \"{hasil :.3f})\n",
        "else:\n",
        "  print(\"hasil tidak ditemukan\")\n",
        "\n",
        "\n"
      ],
      "metadata": {
        "id": "8R9s2G7tmU9a"
      },
      "execution_count": null,
      "outputs": []
    },
    {
      "cell_type": "markdown",
      "source": [
        "NOMOR 2 Tanpa Grafik"
      ],
      "metadata": {
        "id": "uZLD1nTSHMcw"
      }
    },
    {
      "cell_type": "code",
      "source": [
        "import numpy as np #panggil library\n",
        "\n",
        "f1 = input('masukan fungsi f(x) :')#fungsi dibuat\n",
        "f = lambda x: eval(f1)   #fungsi dibuat\n",
        "\n",
        "a = float(input(\"masukan nilai a :\")) #interval 1\n",
        "print(f(a))\n",
        "\n",
        "b = float(input(\"masukan nilai b :\")) #interval 2\n",
        "print(f(b))\n",
        "\n",
        "E = float(input(\"masukan TITIK POTONG :\")) #titik potong\n",
        "i = 1\n",
        "n = int(input(\"ingin berhenti pada literasi ke :\")) #berapa literasi\n",
        "\n",
        "while i<=n:\n",
        " print(\"literasi ke \",i)\n",
        " print(\"nilai a :\",a)\n",
        " print(\"nilai b :\",b)\n",
        " if f(a) * f(b) < 0 :\n",
        "   j = float(abs(a*b))\n",
        "   if j < e :\n",
        "       c = float((a+b)/2)\n",
        "       break\n",
        "   else:\n",
        "       Co = float((a+b)/2)\n",
        "       if f(a)*f(Co) < 0 :\n",
        "         b = Co\n",
        "       else :\n",
        "         a = Co\n",
        "\n",
        " else :\n",
        "  print(\"interval tidak dapat digunakan\")\n",
        " i+=1"
      ],
      "metadata": {
        "id": "78PKi-3KHPLS"
      },
      "execution_count": null,
      "outputs": []
    }
  ]
}