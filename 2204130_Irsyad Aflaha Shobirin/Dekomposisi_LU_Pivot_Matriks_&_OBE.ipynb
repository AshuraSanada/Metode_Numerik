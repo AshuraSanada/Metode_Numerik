{
  "nbformat": 4,
  "nbformat_minor": 0,
  "metadata": {
    "colab": {
      "provenance": []
    },
    "kernelspec": {
      "name": "python3",
      "display_name": "Python 3"
    },
    "language_info": {
      "name": "python"
    }
  },
  "cells": [
    {
      "cell_type": "markdown",
      "source": [
        "# Dekomposisi LU\n"
      ],
      "metadata": {
        "id": "TZq7DS-ChcPN"
      }
    },
    {
      "cell_type": "code",
      "source": [
        "import numpy as np\n",
        "\n",
        "# Fungsi untuk mencetak matriks\n",
        "def print_matrix(matrix):\n",
        "    for row in matrix:\n",
        "        print(row)\n",
        "\n",
        "# Fungsi dekomposisi LU dengan pivot matriks\n",
        "def lu_decomposition_pivot(matrix):\n",
        "    n = len(matrix)\n",
        "    P = np.identity(n)  # Matriks identitas untuk merekam operasi pivot\n",
        "    L = np.zeros((n, n))\n",
        "    U = np.copy(matrix)\n",
        "\n",
        "    for k in range(n):\n",
        "        # Pilih pivot (elemen maksimum pada kolom k)\n",
        "        pivot_row = np.argmax(abs(U[k:, k])) + k\n",
        "\n",
        "        # Tukar baris dalam matriks U\n",
        "        U[[k, pivot_row]] = U[[pivot_row, k]]\n",
        "\n",
        "        # Tukar baris dalam matriks P\n",
        "        P[[k, pivot_row]] = P[[pivot_row, k]]\n",
        "\n",
        "        L[k, k] = 1  # Set 1 di diagonal L\n",
        "\n",
        "        for i in range(k+1, n):\n",
        "            factor = U[i, k] / U[k, k]\n",
        "            L[i, k] = factor\n",
        "            U[i, k:] -= factor * U[k, k:]\n",
        "\n",
        "    return P, L, U\n",
        "\n",
        "# Fungsi dekomposisi LU dengan OBE\n",
        "def lu_decomposition_obe(matrix):\n",
        "    n = len(matrix)\n",
        "    L = np.identity(n)\n",
        "    U = np.copy(matrix)\n",
        "\n",
        "    for k in range(n):\n",
        "        for i in range(k+1, n):\n",
        "            factor = U[i, k] / U[k, k]\n",
        "            L[i, k] = factor\n",
        "            U[i, k:] -= factor * U[k, k:]\n",
        "\n",
        "    return L, U\n",
        "\n",
        "# Meminta pengguna untuk memasukkan matriks\n",
        "n = int(input(\"Masukkan ukuran matriks (n): \"))\n",
        "matrix = []\n",
        "print(\"Masukkan elemen-elemen matriks:\")\n",
        "for _ in range(n):\n",
        "    row = list(map(float, input().split()))\n",
        "    matrix.append(row)\n",
        "\n",
        "# Dekomposisi LU dengan pivot matriks\n",
        "P, L, U = lu_decomposition_pivot(np.array(matrix))\n",
        "print(\"\\nDekomposisi LU dengan Pivot Matriks:\\n\")\n",
        "print(\"Matriks P:\")\n",
        "print_matrix(P)\n",
        "print(\"Matriks L:\")\n",
        "print_matrix(L)\n",
        "print(\"Matriks U:\")\n",
        "print_matrix(U)\n",
        "\n",
        "# Dekomposisi LU dengan OBE\n",
        "L, U = lu_decomposition_obe(np.array(matrix))\n",
        "print(\"\\n\\nDekomposisi LU dengan OBE:\\n\")\n",
        "print(\"Matriks L:\")\n",
        "print_matrix(L)\n",
        "print(\"Matriks U:\")\n",
        "print_matrix(U)"
      ],
      "metadata": {
        "colab": {
          "base_uri": "https://localhost:8080/"
        },
        "id": "CUhCkL3hhbGu",
        "outputId": "636ff689-64a2-436e-b06d-dadede9eed3e"
      },
      "execution_count": 1,
      "outputs": [
        {
          "output_type": "stream",
          "name": "stdout",
          "text": [
            "Masukkan ukuran matriks (n): 3\n",
            "Masukkan elemen-elemen matriks:\n",
            "1 2 3\n",
            "5 7 1\n",
            "4 3 1\n",
            "\n",
            "Dekomposisi LU dengan Pivot Matriks:\n",
            "\n",
            "Matriks P:\n",
            "[0. 1. 0.]\n",
            "[0. 0. 1.]\n",
            "[1. 0. 0.]\n",
            "Matriks L:\n",
            "[1. 0. 0.]\n",
            "[0.2 1.  0. ]\n",
            "[ 0.8        -0.23076923  1.        ]\n",
            "Matriks U:\n",
            "[5. 7. 1.]\n",
            "[ 0.  -2.6  0.2]\n",
            "[0.         0.         2.84615385]\n",
            "\n",
            "\n",
            "Dekomposisi LU dengan OBE:\n",
            "\n",
            "Matriks L:\n",
            "[1. 0. 0.]\n",
            "[5. 1. 0.]\n",
            "[4.         1.66666667 1.        ]\n",
            "Matriks U:\n",
            "[1. 2. 3.]\n",
            "[  0.  -3. -14.]\n",
            "[ 0.          0.         12.33333333]\n"
          ]
        }
      ]
    }
  ]
}