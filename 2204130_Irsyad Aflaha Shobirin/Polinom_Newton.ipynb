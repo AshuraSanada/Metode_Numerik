{
  "nbformat": 4,
  "nbformat_minor": 0,
  "metadata": {
    "colab": {
      "provenance": []
    },
    "kernelspec": {
      "name": "python3",
      "display_name": "Python 3"
    },
    "language_info": {
      "name": "python"
    }
  },
  "cells": [
    {
      "cell_type": "markdown",
      "source": [
        "POLINOM NEWTON"
      ],
      "metadata": {
        "id": "tVmhQaiqJ4kC"
      }
    },
    {
      "cell_type": "code",
      "source": [
        "import numpy as np\n",
        "\n",
        "list_x = []\n",
        "list_y = []\n",
        "\n",
        "n1 = int(input('Masukan jumlah x dan y :'))\n",
        "i = 0\n",
        "\n",
        "while i <= n1:\n",
        "  x_n = float(input('masukan x : '))\n",
        "  y_n = float(input('masukan y : '))\n",
        "  list_x.append(x_n)\n",
        "  list_y.append(y_n)\n",
        "  i+=1\n",
        "\n",
        "i = 1\n",
        "list_a = []\n",
        "list_a[0] = list_y[1]\n",
        "\n",
        "n = int(input('Masukan tingkat yang diinginkan :'))\n",
        "if n <= n1:\n",
        "  while i <= n:\n",
        "    if i == 1 :\n",
        "      list_a[i] = float((list_y[i+1]-list_y[i])/(list_x[i+1]-list_x[i]))\n",
        "    else:\n",
        "      list_a[i] = float(((list_y[i+1]-list_y[i]) - list_a[i-1])/(list_x[i+1]-list_x[i]))\n",
        "    i+=1\n",
        "\n",
        "  n = int(input('Masukan nilai x yang ingin di uji coba :'))\n",
        "  i = 0\n",
        "  hasil = 0\n",
        "\n",
        "  while i <= n1:\n",
        "    if i == 0:\n",
        "      hasil = hasil + list_a[0]\n",
        "    else :\n",
        "      i1 = 0\n",
        "      pengali = 1\n",
        "      while i1 < i:\n",
        "        pengali = float(pengali * (n - list_x[i1]))\n",
        "      hasil = hasil + (list_a * pengali)\n",
        "    i+=1\n",
        "\n",
        "    print(\"hasil dari P ke n dengan nilai x :\" ,hasil)\n",
        "\n",
        "else:\n",
        "  print('Penghitungan tidak dapat dilakukan')"
      ],
      "metadata": {
        "id": "2tHDW_5x91Gt"
      },
      "execution_count": null,
      "outputs": []
    }
  ]
}