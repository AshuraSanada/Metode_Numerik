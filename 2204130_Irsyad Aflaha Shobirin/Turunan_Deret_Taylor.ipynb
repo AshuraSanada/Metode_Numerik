{
  "nbformat": 4,
  "nbformat_minor": 0,
  "metadata": {
    "colab": {
      "provenance": []
    },
    "kernelspec": {
      "name": "python3",
      "display_name": "Python 3"
    },
    "language_info": {
      "name": "python"
    }
  },
  "cells": [
    {
      "cell_type": "code",
      "execution_count": null,
      "metadata": {
        "colab": {
          "base_uri": "https://localhost:8080/"
        },
        "id": "Gj_W-ja3k8Nv",
        "outputId": "3cc24b12-c32d-4a10-f46b-39396f7d9661"
      },
      "outputs": [
        {
          "output_type": "stream",
          "name": "stdout",
          "text": [
            "Masukkan fungsi f(x) dalam bentuk Python (contoh: x**2): x**2\n",
            "Masukkan titik di mana turunan dihitung (a): 1\n",
            "Masukkan orde turunan (n): 5\n",
            "Masukkan delta (h): 6\n",
            "Pilih metode ('forward', 'backward', atau 'central'): forward\n",
            "Turunan orde 5 (forward): 0.03154042352537722\n"
          ]
        }
      ],
      "source": [
        "def derivative_taylor(f, a, n, h, method='forward'):\n",
        "    if method == 'forward':\n",
        "        return sum((f(a + i * h) / (h ** i)) * (-1) ** (n - i) for i in range(n + 1)) / factorial(n)\n",
        "    elif method == 'backward':\n",
        "        return sum((f(a - i * h) / (h ** i)) * (-1) ** (n - i) for i in range(n + 1)) / factorial(n)\n",
        "    elif method == 'central':\n",
        "        return sum(((f(a + i * h) - f(a - i * h)) / (2 * h) ** i) * (-1) ** (n - i) for i in range(n + 1)) / factorial(n)\n",
        "    else:\n",
        "        raise ValueError(\"Metode yang diberikan tidak valid. Gunakan 'forward', 'backward', atau 'central'.\")\n",
        "\n",
        "def factorial(n):\n",
        "    if n == 0 or n == 1:\n",
        "        return 1\n",
        "    return n * factorial(n - 1)\n",
        "\n",
        "# Input dari pengguna\n",
        "expression = input(\"Masukkan fungsi f(x) dalam bentuk Python (contoh: x**2): \")\n",
        "a = float(input(\"Masukkan titik di mana turunan dihitung (a): \"))\n",
        "n = int(input(\"Masukkan orde turunan (n): \"))\n",
        "h = float(input(\"Masukkan delta (h): \"))\n",
        "\n",
        "# Fungsi untuk menghitung nilai dari input ekspresi Python\n",
        "def f(x):\n",
        "    return eval(expression)\n",
        "\n",
        "# Pilihan metode\n",
        "method = input(\"Pilih metode ('forward', 'backward', atau 'central'): \")\n",
        "\n",
        "# Menghitung turunan menggunakan metode yang dipilih\n",
        "if method in ['forward', 'backward', 'central']:\n",
        "    result = derivative_taylor(f, a, n, h, method=method)\n",
        "    print(f\"Turunan orde {n} ({method}): {result}\")\n",
        "else:\n",
        "    print(\"Metode yang diberikan tidak valid. Gunakan 'forward', 'backward', atau 'central'.\")\n"
      ]
    }
  ]
}