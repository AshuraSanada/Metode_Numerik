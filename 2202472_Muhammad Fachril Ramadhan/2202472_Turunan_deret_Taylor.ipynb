{
  "nbformat": 4,
  "nbformat_minor": 0,
  "metadata": {
    "colab": {
      "provenance": []
    },
    "kernelspec": {
      "name": "python3",
      "display_name": "Python 3"
    },
    "language_info": {
      "name": "python"
    }
  },
  "cells": [
    {
      "cell_type": "markdown",
      "source": [
        "Deret Taylor"
      ],
      "metadata": {
        "id": "SvOW2R5d3qaV"
      }
    },
    {
      "cell_type": "code",
      "execution_count": null,
      "metadata": {
        "id": "tq5upn7x3c4f"
      },
      "outputs": [],
      "source": [
        "import sympy as sp\n",
        "import numpy as np\n",
        "import matplotlib.pyplot as plt\n",
        "\n",
        "def taylor_series_derivative(func, x, n):\n",
        "    # inisialisasi variabel simbolik\n",
        "    sym_x = sp.symbols('x')\n",
        "\n",
        "    # inisialisasi fungsi f(x)\n",
        "    f = sp.sympify(func)\n",
        "\n",
        "    # Hitung turunan deret Taylor\n",
        "    taylor = f.series(sym_x, x, n).removeO()\n",
        "\n",
        "    # Hitung turunan pertama\n",
        "    derivative = taylor.diff(sym_x)\n",
        "\n",
        "    return derivative\n",
        "\n",
        "# Input fungsi f(x), titik x, dan orde turunan\n",
        "func = input(\"Masukkan fungsi f(x): \")\n",
        "x_value = float(input(\"Masukkan nilai x: \"))\n",
        "order = int(input(\"Masukkan orde turunan: \"))\n",
        "\n",
        "# Hitung\n",
        "result = taylor_series_derivative(func, x_value, order)\n",
        "print(f\"Turunan deret Taylor orde {order} dari f(x) pada x = {x_value} adalah:\")\n",
        "print(result)\n",
        "\n",
        "x = np.linspace(x_value - 5, x_value + 5, 1000)\n",
        "f = sp.lambdify(sp.symbols('x'), sp.sympify(func), 'numpy')\n",
        "taylor = sp.lambdify(sp.symbols('x'), result, 'numpy')\n",
        "\n",
        "plt.figure(figsize=(8, 6))\n",
        "plt.plot(x, f(x), label='Fungsi Asli f(x)')\n",
        "plt.plot(x, taylor(x), label=f'Turunan Deret Taylor Orde {order}')\n",
        "plt.scatter(x_value, f(x_value), color='red', label=f'x = {x_value}')\n",
        "plt.xlabel('x')\n",
        "plt.ylabel('f(x)')\n",
        "plt.title('Fungsi Asli dan Turunan Deret Taylor')\n",
        "plt.legend()\n",
        "plt.grid(True)\n",
        "plt.show()\n"
      ]
    }
  ]
}