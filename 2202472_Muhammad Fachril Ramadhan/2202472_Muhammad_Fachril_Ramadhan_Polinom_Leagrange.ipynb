{
  "nbformat": 4,
  "nbformat_minor": 0,
  "metadata": {
    "colab": {
      "provenance": []
    },
    "kernelspec": {
      "name": "python3",
      "display_name": "Python 3"
    },
    "language_info": {
      "name": "python"
    }
  },
  "cells": [
    {
      "cell_type": "markdown",
      "source": [
        "MASUKAN NILAI X DAN Y DALAM LIST"
      ],
      "metadata": {
        "id": "sILLnA4PflaB"
      }
    },
    {
      "cell_type": "code",
      "source": [
        "import numpy as np\n",
        "\n",
        "#Deklarasi List yang menyimpan nilai X dan Y\n",
        "\n",
        "list_x = []\n",
        "list_y = []\n",
        "\n",
        "n1 = int(input('Masukan jumlah x dan y (terhitung dari 0):'))\n",
        "i = 0\n",
        "\n",
        "#masukan nilai x dan y ke list\n",
        "\n",
        "while i <= n1:\n",
        "  x_n = float(input(f'masukan x{i} : '))\n",
        "  y_n = float(input(f'masukan y{i}: '))\n",
        "  list_x.append(x_n)\n",
        "  list_y.append(y_n)\n",
        "  i+=1"
      ],
      "metadata": {
        "id": "uFabrPvSfklA"
      },
      "execution_count": null,
      "outputs": []
    },
    {
      "cell_type": "markdown",
      "source": [
        "Fungsi dari Polinom Leagrange"
      ],
      "metadata": {
        "id": "Fw__svTrfr9A"
      }
    },
    {
      "cell_type": "code",
      "source": [
        "import numpy as np\n",
        "\n",
        "hasil = float(0)\n",
        "i = 0\n",
        "while i in range(n1):\n",
        "  a = list_y[i]\n",
        "  j = 0\n",
        "  while j in range(n1):\n",
        "    if j != i:\n",
        "      a = a *((x - list_x[j])/list_x[i] - list_x[j])\n",
        "      j+=1\n",
        "  i+=1\n",
        "  hasil+=a"
      ],
      "metadata": {
        "id": "LvGJ5UcQfwTW"
      },
      "execution_count": null,
      "outputs": []
    },
    {
      "cell_type": "markdown",
      "source": [
        "INTERPOLASI LEAGRANGE"
      ],
      "metadata": {
        "id": "B2p4tc9qY5mz"
      }
    },
    {
      "cell_type": "code",
      "source": [
        "import numpy as np\n",
        "\n",
        "#Deklarasi List yang menyimpan nilai X dan Y\n",
        "\n",
        "list_x = []\n",
        "list_y = []\n",
        "\n",
        "n1 = int(input('Masukan jumlah x dan y (terhitung dari 0):'))\n",
        "i = 0\n",
        "\n",
        "#masukan nilai x dan y ke list\n",
        "\n",
        "while i <= n1:\n",
        "  x_n = float(input(f'masukan x{i} : '))\n",
        "  y_n = float(input(f'masukan y{i}: '))\n",
        "  list_x.append(x_n)\n",
        "  list_y.append(y_n)\n",
        "  i+=1\n",
        "\n",
        "x = float(input('Masukan Nilai X yang ingin diuji coba :'))\n",
        "\n",
        "#Rumus Leagrange Polinomial\n",
        "\n",
        "hasil = float(0)\n",
        "i = 0\n",
        "while i in range(n1):\n",
        "  a = list_y[i]\n",
        "  j = 0\n",
        "  while j in range(n1):\n",
        "    if j != i:\n",
        "      a = a *((x - list_x[j])/list_x[i] - list_x[j])\n",
        "      j+=1\n",
        "  i+=1\n",
        "  hasil+=a\n",
        "\n",
        "#print hasil\n",
        "\n",
        "print(f'Hasil dari interpolasi tersebut dengan titik x = {x} adalah {hasil}')\n"
      ],
      "metadata": {
        "id": "eZCv5i_hY-V6"
      },
      "execution_count": null,
      "outputs": []
    }
  ]
}