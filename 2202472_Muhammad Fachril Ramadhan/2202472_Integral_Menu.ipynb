{
  "nbformat": 4,
  "nbformat_minor": 0,
  "metadata": {
    "colab": {
      "provenance": []
    },
    "kernelspec": {
      "name": "python3",
      "display_name": "Python 3"
    },
    "language_info": {
      "name": "python"
    }
  },
  "cells": [
    {
      "cell_type": "markdown",
      "source": [
        "Sedikit Catatan bahwasanya belum bisa menyangkut fungsi dengan variable e"
      ],
      "metadata": {
        "id": "nE7rg7wTn444"
      }
    },
    {
      "cell_type": "markdown",
      "source": [
        "Integral dengan 3 pilihan metode"
      ],
      "metadata": {
        "id": "7FEXDVxVbtpq"
      }
    },
    {
      "cell_type": "code",
      "execution_count": null,
      "metadata": {
        "id": "BbMybhIkbqlU"
      },
      "outputs": [],
      "source": [
        "import sympy as sp\n",
        "from scipy import integrate\n",
        "\n",
        "def integrasi_trapesium(fungsi, batas_bawah, batas_atas, subinterval):\n",
        "    x = sp.symbols('x')\n",
        "    fungsi_lambda = sp.lambdify(x, fungsi, 'numpy')\n",
        "    hasil_integral, _ = integrate.quad(fungsi_lambda, batas_bawah, batas_atas)\n",
        "    return hasil_integral\n",
        "\n",
        "def integrasi_quad(fungsi, batas_bawah, batas_atas, subinterval):\n",
        "    x = sp.symbols('x')\n",
        "    fungsi_lambda = sp.lambdify(x, fungsi, 'numpy')\n",
        "    hasil_integral, _ = integrate.quad(fungsi_lambda, batas_bawah, batas_atas)\n",
        "    return hasil_integral\n",
        "\n",
        "# Main program\n",
        "fungsi_input = input(\"Masukkan fungsi dalam bentuk simbolis (gunakan x sebagai variabel): \")\n",
        "batas_bawah_input = float(input(\"Masukkan batas bawah integral: \"))\n",
        "batas_atas_input = float(input(\"Masukkan batas atas integral: \"))\n",
        "subinterval_input = int(input(\"Masukkan jumlah subinterval: \"))\n",
        "\n",
        "x = sp.symbols('x')\n",
        "fungsi = sp.sympify(fungsi_input)\n",
        "print(\"[1.trapesium]\")\n",
        "print(\"[2.simpson]\")\n",
        "print(\"[3.quad]\")\n",
        "metode = input(\"Pilih metode integrasi (Ketik nomornya saja) : \")\n",
        "\n",
        "\n",
        "if metode == 1:\n",
        "    hasil_integral = integrasi_trapesium(fungsi, batas_bawah_input, batas_atas_input, subinterval_input)\n",
        "elif metode == 2:\n",
        "    data = []\n",
        "    i = 0\n",
        "    h = (batas_atas - batas_bawah) / subinterval\n",
        "    print(f\"h = {h}\")\n",
        "    h1 = batas_bawah\n",
        "    hasil_integrasi = 0\n",
        "\n",
        "    while i <= subinterval:\n",
        "        if (i == 0) or (i == subinterval):\n",
        "            tambah = fungsi(h1)\n",
        "            print(f\"f{i} = {tambah}\")\n",
        "            hasil_integrasi = hasil_integrasi + tambah\n",
        "        else:\n",
        "            if i % 2 == 1:\n",
        "                tambah = float(fungsi(h1))\n",
        "                tambah = tambah * 4\n",
        "                print(f\"f{i} = {tambah}\")\n",
        "                hasil_integrasi = hasil_integrasi + tambah\n",
        "            else:\n",
        "                tambah = float(fungsi(h1))\n",
        "                tambah = tambah * 2\n",
        "                print(f\"f{i} = {tambah}\")\n",
        "                hasil_integrasi = hasil_integrasi + tambah\n",
        "\n",
        "    tambah = 0\n",
        "    print(f\"x = {h1}\")\n",
        "    h1 = h1 + h\n",
        "    i += 1\n",
        "\n",
        "elif metode == 3:\n",
        "    hasil_integral = integrasi_quad(fungsi, batas_bawah_input, batas_atas_input, subinterval_input)\n",
        "else:\n",
        "    print(\"Metode tidak valid. Pilih antara trapesium, simpson, atau quad.\")\n",
        "    hasil_integral = None\n",
        "\n",
        "if hasil_integral is not None:\n",
        "    print(f\"Hasil integral: {hasil_integral}\")\n"
      ]
    },
    {
      "cell_type": "markdown",
      "source": [
        "Jika Terpisah"
      ],
      "metadata": {
        "id": "sAtGMtBdcmFy"
      }
    },
    {
      "cell_type": "markdown",
      "source": [
        "Integral_Trapesium"
      ],
      "metadata": {
        "id": "3KJkkDAVco7Q"
      }
    },
    {
      "cell_type": "code",
      "source": [
        "import sympy as sp\n",
        "from scipy import integrate\n",
        "\n",
        "def integrasi_trapesium(fungsi, batas_bawah, batas_atas, subinterval):\n",
        "    x = sp.symbols('x')\n",
        "    fungsi_lambda = sp.lambdify(x, fungsi, 'numpy')\n",
        "    hasil_integral, _ = integrate.quad(fungsi_lambda, batas_bawah, batas_atas)\n",
        "    return hasil_integral\n",
        "\n",
        "fungsi_input = input(\"Masukkan fungsi dalam bentuk simbolis (gunakan x sebagai variabel): \")\n",
        "batas_bawah_input = float(input(\"Masukkan batas bawah integral: \"))\n",
        "batas_atas_input = float(input(\"Masukkan batas atas integral: \"))\n",
        "subinterval_input = int(input(\"Masukkan jumlah subinterval: \"))\n",
        "\n",
        "x = sp.symbols('x')\n",
        "fungsi = sp.sympify(fungsi_input)\n",
        "\n",
        "hasil_integral = integrasi_trapesium(fungsi, batas_bawah_input, batas_atas_input, subinterval_input)\n",
        "\n",
        "print(f\"Hasil integral menggunakan metode : {hasil_integral}\")\n",
        "\n"
      ],
      "metadata": {
        "id": "ZDV8wHxocsll",
        "colab": {
          "base_uri": "https://localhost:8080/"
        },
        "outputId": "1cd1e6f8-5a53-48eb-f0f9-5f77b9fc33f6"
      },
      "execution_count": 3,
      "outputs": [
        {
          "output_type": "stream",
          "name": "stdout",
          "text": [
            "Masukkan fungsi dalam bentuk simbolis (gunakan x sebagai variabel): 1/(1+x)\n",
            "Masukkan batas bawah integral: 0\n",
            "Masukkan batas atas integral: 1\n",
            "Masukkan jumlah subinterval: 8\n",
            "Hasil integral menggunakan metode : 0.6931471805599454\n"
          ]
        }
      ]
    },
    {
      "cell_type": "markdown",
      "source": [
        "Metode Simson"
      ],
      "metadata": {
        "id": "fthfR-1QdCot"
      }
    },
    {
      "cell_type": "code",
      "source": [
        "import numpy as np\n",
        "\n",
        "fungsi_sementara = input(\"Masukkan fungsi (gunakan x sebagai variabel): \")\n",
        "fungsi = lambda x: eval(fungsi_sementara)\n",
        "\n",
        "batas_bawah = float(input(\"Masukkan batas bawah integral: \"))\n",
        "batas_atas = float(input(\"Masukkan batas atas integral: \"))\n",
        "subinterval = int(input(\"Masukkan jumlah subinterval: \"))\n",
        "\n",
        "data = []\n",
        "i = 0\n",
        "h = (batas_atas - batas_bawah) / subinterval\n",
        "print(f\"h = {h}\")\n",
        "h1 = batas_bawah\n",
        "hasil_integrasi = 0\n",
        "\n",
        "while i <= subinterval:\n",
        "    if (i == 0) or (i == subinterval):\n",
        "        tambah = fungsi(h1)\n",
        "        print(f\"f{i} = {tambah}\")\n",
        "        hasil_integrasi = hasil_integrasi + tambah\n",
        "    else:\n",
        "        if i % 2 == 1:\n",
        "            tambah = float(fungsi(h1))\n",
        "            tambah = tambah * 4\n",
        "            print(f\"f{i} = {tambah}\")\n",
        "            hasil_integrasi = hasil_integrasi + tambah\n",
        "        else:\n",
        "            tambah = float(fungsi(h1))\n",
        "            tambah = tambah * 2\n",
        "            print(f\"f{i} = {tambah}\")\n",
        "            hasil_integrasi = hasil_integrasi + tambah\n",
        "\n",
        "    tambah = 0\n",
        "    print(f\"x = {h1}\")\n",
        "    h1 = h1 + h\n",
        "    i += 1\n",
        "\n",
        "hasil_integrasi = hasil_integrasi * (h / 3)\n",
        "print(f\"Hasil integral menggunakan metode : {hasil_integrasi}\")\n"
      ],
      "metadata": {
        "id": "rCnt4uckdL0z",
        "colab": {
          "base_uri": "https://localhost:8080/"
        },
        "outputId": "9a7d650b-2732-4414-8bd3-ed971570ad24"
      },
      "execution_count": 21,
      "outputs": [
        {
          "output_type": "stream",
          "name": "stdout",
          "text": [
            "Masukkan fungsi (gunakan x sebagai variabel): 1 / (1+x)\n",
            "Masukkan batas bawah integral: 0\n",
            "Masukkan batas atas integral: 1\n",
            "Masukkan jumlah subinterval: 8\n",
            "h = 0.125\n",
            "f0 = 1.0\n",
            "x = 0.0\n",
            "f1 = 3.5555555555555554\n",
            "x = 0.125\n",
            "f2 = 1.6\n",
            "x = 0.25\n",
            "f3 = 2.909090909090909\n",
            "x = 0.375\n",
            "f4 = 1.3333333333333333\n",
            "x = 0.5\n",
            "f5 = 2.4615384615384617\n",
            "x = 0.625\n",
            "f6 = 1.1428571428571428\n",
            "x = 0.75\n",
            "f7 = 2.1333333333333333\n",
            "x = 0.875\n",
            "f8 = 0.5\n",
            "x = 1.0\n",
            "Hasil integral menggunakan metode : 0.6931545306545306\n"
          ]
        }
      ]
    },
    {
      "cell_type": "markdown",
      "source": [
        "Metode Quad"
      ],
      "metadata": {
        "id": "NwYPhv9EdYtS"
      }
    },
    {
      "cell_type": "code",
      "source": [
        "import numpy as np\n",
        "\n",
        "fungsi_sementara = input(\"Masukkan fungsi (gunakan x sebagai variabel): \")\n",
        "fungsi = lambda x: eval(fungsi_sementara)\n",
        "\n",
        "batas_bawah = float(input(\"Masukkan batas bawah integral: \"))\n",
        "batas_atas = float(input(\"Masukkan batas atas integral: \"))\n",
        "subinterval = int(input(\"Masukkan jumlah subinterval: \"))\n",
        "\n",
        "a = fungsi(1)\n",
        "print(f\"{a}\")\n",
        "data = []\n",
        "i = 1\n",
        "h = (batas_atas - batas_bawah) / subinterval\n",
        "print(f\"h = {h}\")\n",
        "h1 = batas_bawah\n",
        "hasil_integrasi = 0\n",
        "hasil = 0\n",
        "\n",
        "while i <= 2*subinterval:\n",
        "    x = batas_bawah + (i/2) * h\n",
        "    print(f\"x{i}/2 ={x}\")\n",
        "    hasil = fungsi(x)\n",
        "    print(f\"hasil f(x{i}/2) = {hasil}\")\n",
        "    hasil_integrasi += hasil\n",
        "    i += 2\n",
        "\n",
        "hasil_integrasi = hasil_integrasi * h\n",
        "print(f\"Hasil integral menggunakan metode : {hasil_integrasi}\")\n"
      ],
      "metadata": {
        "id": "NBNs85Srda7W",
        "colab": {
          "base_uri": "https://localhost:8080/"
        },
        "outputId": "afffebca-70a1-47ce-cc83-8d6644908241"
      },
      "execution_count": 28,
      "outputs": [
        {
          "output_type": "stream",
          "name": "stdout",
          "text": [
            "Masukkan fungsi (gunakan x sebagai variabel): 2.72**x\n",
            "Masukkan batas bawah integral: 1.8\n",
            "Masukkan batas atas integral: 3.4\n",
            "Masukkan jumlah subinterval: 8\n",
            "2.72\n",
            "h = 0.19999999999999998\n",
            "x1/2 =1.9000000000000001\n",
            "hasil f(x1/2) = 6.693926164220878\n",
            "x3/2 =2.1\n",
            "hasil f(x3/2) = 8.17701319332836\n",
            "x5/2 =2.3\n",
            "hasil f(x5/2) = 9.988688719223193\n",
            "x7/2 =2.5\n",
            "hasil f(x7/2) = 12.201753864227882\n",
            "x9/2 =2.7\n",
            "hasil f(x9/2) = 14.905139357949526\n",
            "x11/2 =2.9\n",
            "hasil f(x11/2) = 18.207479166680788\n",
            "x13/2 =3.0999999999999996\n",
            "hasil f(x13/2) = 22.241475885853134\n",
            "x15/2 =3.3\n",
            "hasil f(x15/2) = 27.169233316287084\n",
            "Hasil integral menggunakan metode : 23.916941933554167\n"
          ]
        }
      ]
    }
  ]
}