{
  "nbformat": 4,
  "nbformat_minor": 0,
  "metadata": {
    "colab": {
      "provenance": []
    },
    "kernelspec": {
      "name": "python3",
      "display_name": "Python 3"
    },
    "language_info": {
      "name": "python"
    }
  },
  "cells": [
    {
      "cell_type": "markdown",
      "source": [
        "Metode Eleminasi Gaus Jordan"
      ],
      "metadata": {
        "id": "NBnuDN_Rv9c8"
      }
    },
    {
      "cell_type": "code",
      "execution_count": null,
      "metadata": {
        "id": "dwKqAcyWv4bV"
      },
      "outputs": [],
      "source": [
        "import numpy as np\n",
        "\n",
        "def is_pivotal_element_zero(matrix, pivot_row, pivot_col):\n",
        "    # Memeriksa apakah elemen pivot di baris  dan kolom adalah nol\n",
        "    return matrix[pivot_row][pivot_col] == 0\n",
        "\n",
        "def find_pivotal_element(matrix, start_row, pivot_col):\n",
        "    # Mencari elemen pivot bukan nol pertama dari baris ke bawah\n",
        "    for i in range(start_row, len(matrix)):\n",
        "        if matrix[i][pivot_col] != 0:\n",
        "            return i\n",
        "    return -1  # Jika tidak ditemukan elemen pivot yang bukan nol\n",
        "\n",
        "def perform_gauss_jordan_elimination(matrix):\n",
        "    rows, cols = np.shape(matrix)\n",
        "\n",
        "    for pivot_col in range(cols - 1):\n",
        "        pivot_row = find_pivotal_element(matrix, pivot_col, pivot_col)\n",
        "\n",
        "        if pivot_row == -1:\n",
        "            print(\"Matriks tidak dapat dieliminasi. Ada kolom dengan semua elemen nol.\")\n",
        "            return None\n",
        "\n",
        "        # Tukar baris pivot dengan baris di indeks kolom\n",
        "        matrix[[pivot_row, pivot_col]] = matrix[[pivot_col, pivot_row]]\n",
        "\n",
        "        # Skala baris pivot sehingga elemen pivot menjadi 1\n",
        "        matrix[pivot_col] = matrix[pivot_col] / matrix[pivot_col, pivot_col]\n",
        "\n",
        "        # Eliminasi elemen di bawah dan di atas baris pivot\n",
        "        for i in range(rows):\n",
        "            if i != pivot_col:\n",
        "                scale_factor = matrix[i, pivot_col]\n",
        "                matrix[i] = matrix[i] - scale_factor * matrix[pivot_col]\n",
        "\n",
        "    return matrix\n",
        "\n",
        "# Input ukuran matriks\n",
        "rows = int(input(\"Masukkan jumlah baris matriks: \"))\n",
        "cols = int(input(\"Masukkan jumlah kolom matriks: \"))\n",
        "\n",
        "# Input elemen-elemen matriks\n",
        "matrix = np.zeros((rows, cols))\n",
        "for i in range(rows):\n",
        "    for j in range(cols):\n",
        "        matrix[i][j] = float(input(f\"Masukkan elemen A[{i}][{j}]: \"))\n",
        "\n",
        "print(\"\\nMatriks Input A:\")\n",
        "print(matrix)\n",
        "\n",
        "# Lakukan eliminasi Gauss-Jordan\n",
        "result_matrix = perform_gauss_jordan_elimination(matrix.copy())\n",
        "\n",
        "if result_matrix is not None:\n",
        "    print(\"\\nMatriks Hasil:\")\n",
        "    print(result_matrix)\n"
      ]
    }
  ]
}