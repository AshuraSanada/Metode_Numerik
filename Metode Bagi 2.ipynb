{
  "nbformat": 4,
  "nbformat_minor": 0,
  "metadata": {
    "colab": {
      "provenance": [],
      "include_colab_link": true
    },
    "kernelspec": {
      "name": "python3",
      "display_name": "Python 3"
    },
    "language_info": {
      "name": "python"
    }
  },
  "cells": [
    {
      "cell_type": "markdown",
      "metadata": {
        "id": "view-in-github",
        "colab_type": "text"
      },
      "source": [
        "<a href=\"https://colab.research.google.com/github/AshuraSanada/Metode_Numerik/blob/main/Metnum_1.ipynb\" target=\"_parent\"><img src=\"https://colab.research.google.com/assets/colab-badge.svg\" alt=\"Open In Colab\"/></a>"
      ]
    },
    {
      "cell_type": "markdown",
      "source": [
        "Rumus Bagi Dua"
      ],
      "metadata": {
        "id": "tBmfv7DFhOPV"
      }
    },
    {
      "cell_type": "code",
      "source": [
        "import numpy as np #panggil library\n",
        "\n",
        "def my_bisection(f, a, b, e):\n",
        "  if np.sign(f(a)) == np.sign(f(b)):\n",
        "    raise Exception('Tidak ada akar pada interval a dan b')\n",
        "  m = (a + b)/2\n",
        "  if np.abs(f(m)) < e:\n",
        "    return m\n",
        "  elif np.sign(f(a)) == np.sign(f(m)):\n",
        "    return my_bisection(f, m, b, e)\n",
        "  elif np.sign(f(b)) == np.sign(f(m)):\n",
        "    return my_bisection(f, a, m, e)"
      ],
      "metadata": {
        "id": "_BPaWnMrdBue"
      },
      "execution_count": null,
      "outputs": []
    },
    {
      "cell_type": "markdown",
      "source": [
        "No 1 bagian A"
      ],
      "metadata": {
        "id": "yjKpskI8GWBG"
      }
    },
    {
      "cell_type": "code",
      "execution_count": null,
      "metadata": {
        "colab": {
          "base_uri": "https://localhost:8080/"
        },
        "id": "TjfL_O5CGF7m",
        "outputId": "16137993-1367-41fe-d38e-c0aff509bd53"
      },
      "outputs": [
        {
          "output_type": "stream",
          "name": "stdout",
          "text": [
            "0\n",
            "981\n",
            "Akar yang ditemukan adalah x = 1.000\n"
          ]
        }
      ],
      "source": [
        "import numpy as np\n",
        "\n",
        "#fungsi dibuat\n",
        "f = lambda x: x**3 - 2*x + 1\n",
        "\n",
        "# interval\n",
        "a = 1\n",
        "print(f(a))\n",
        "b = 10\n",
        "print(f(b))\n",
        "\n",
        "#titik potong\n",
        "e = 1e-6\n",
        "\n",
        "solusi = my_bisection(f, a, b, e)\n",
        "\n",
        "if solusi is not None:\n",
        "    print(f\"Akar yang ditemukan adalah x = {solusi:.3f}\")\n",
        "else:\n",
        "    print(\"Metode tidak konvergen atau solusi tidak ditemukan.\")"
      ]
    },
    {
      "cell_type": "markdown",
      "source": [
        "Nomor 1 Bagian B"
      ],
      "metadata": {
        "id": "hlgeoJtQS1CG"
      }
    },
    {
      "cell_type": "code",
      "source": [
        "import numpy as np\n",
        "import math\n",
        "\n",
        "#fungsi dibuat\n",
        "f = lambda x: math.exp(x) + x\n",
        "\n",
        "# interval\n",
        "a = -1\n",
        "print(f(a))\n",
        "b = 3\n",
        "print(f(b))\n",
        "\n",
        "#titik potong\n",
        "e = 1\n",
        "\n",
        "solusi = my_bisection(f, a, b, e)\n",
        "\n",
        "if solusi is not None:\n",
        "    print(f\"Akar yang ditemukan adalah x = {solusi:.3f}\")\n",
        "else:\n",
        "    print(\"Metode tidak konvergen atau solusi tidak ditemukan.\")"
      ],
      "metadata": {
        "colab": {
          "base_uri": "https://localhost:8080/"
        },
        "id": "hAzf7I2GS3zK",
        "outputId": "b7bf54e8-bd2f-45af-8c80-aeabe7e6459c"
      },
      "execution_count": null,
      "outputs": [
        {
          "output_type": "stream",
          "name": "stdout",
          "text": [
            "-0.6321205588285577\n",
            "23.085536923187668\n",
            "Akar yang ditemukan adalah x = -0.500\n"
          ]
        }
      ]
    },
    {
      "cell_type": "markdown",
      "source": [
        "Nomor 2\n",
        "- output iterasi ke - n (selesai)\n",
        "- input fungsi, batas akar dan galat\n",
        "- tampilkan Grafik (selesai)"
      ],
      "metadata": {
        "id": "IyNLnIheKHBG"
      }
    },
    {
      "cell_type": "code",
      "source": [
        "import numpy as np\n",
        "import matplotlib.pyplot as plt\n",
        "\n",
        "f = lambda x: x**3 - x*2 - 1   #fungsi dibuat\n",
        "\n",
        "a = float(input(\"masukan nilai a :\")) #interval 1\n",
        "print(f(a))\n",
        "\n",
        "b = float(input(\"masukan nilai b :\")) #interval 2\n",
        "print(f(b))\n",
        "\n",
        "e = float(input(\"masukan nilai galat :\")) #titik potong\n",
        "i = 1\n",
        "n = int(input(\"ingin berhenti pada literasi ke :\")) #berapa literasi\n",
        "\n",
        "# Siapkan daftar untuk menyimpan nilai a, b, dan nilai tengah c pada setiap itera##si\n",
        "iterasi_a = [a]\n",
        "iterasi_b = [b]\n",
        "iterasi_c = []\n",
        "\n",
        "while i<=n:\n",
        " print(\"literasi ke \",i)\n",
        " print(\"nilai a :\",a)\n",
        " print(\"nilai b :\",b)\n",
        " if f(a) * f(b) < 0 :\n",
        "   j = float(abs(a*b))\n",
        "   if j < e :\n",
        "       c = float((a+b)/2)\n",
        "       break\n",
        "   else:\n",
        "       Co = float((a+b)/2)\n",
        "       if f(a)*f(Co) < 0 :\n",
        "         b = Co\n",
        "       else :\n",
        "         a = Co\n",
        "\n",
        " else :\n",
        "  print(\"interval tidak dapat digunakan\")\n",
        " i+=1\n",
        "\n",
        "# Menampilkan grafik\n",
        "x = np.linspace(min(iterasi_a + iterasi_b), max(iterasi_a + iterasi_b), 1000)\n",
        "y = f(x)\n",
        "\n",
        "plt.figure(figsize=(10, 6))\n",
        "plt.plot(x, y, label='f(x) = x^3 - 2x - 1')\n",
        "plt.scatter(iterasi_a, [f(val) for val in iterasi_a], label='Iterasi a', marker='o', color='red')\n",
        "plt.scatter(iterasi_b, [f(val) for val in iterasi_b], label='Iterasi b', marker='o', color='blue')\n",
        "plt.scatter(iterasi_c, [f(val) for val in iterasi_c], label='Iterasi c', marker='o', color='green')\n",
        "plt.axhline(0, color='black', linestyle='--', linewidth=0.8)\n",
        "plt.axvline(0, color='black', linestyle='--', linewidth=0.8)\n",
        "plt.legend()\n",
        "plt.title('Metode Bagi Dua untuk Mencari Akar')\n",
        "plt.xlabel('x')\n",
        "plt.ylabel('f(x)')\n",
        "plt.grid(True)\n",
        "plt.show()\n",
        "\n",
        "print(\"Akar yang ditemukan adalah x =\", c)"
      ],
      "metadata": {
        "colab": {
          "base_uri": "https://localhost:8080/",
          "height": 903
        },
        "id": "FLhItX1VLqw0",
        "outputId": "06061a2b-7b93-4937-a203-b98b51983d21"
      },
      "execution_count": null,
      "outputs": [
        {
          "output_type": "stream",
          "name": "stdout",
          "text": [
            "masukan nilai a :-1\n",
            "0.0\n",
            "masukan nilai b :4\n",
            "55.0\n",
            "masukan nilai galat :2\n",
            "ingin berhenti pada literasi ke :3\n",
            "literasi ke  1\n",
            "nilai a : -1.0\n",
            "nilai b : 4.0\n",
            "interval tidak dapat digunakan\n",
            "literasi ke  2\n",
            "nilai a : -1.0\n",
            "nilai b : 4.0\n",
            "interval tidak dapat digunakan\n",
            "literasi ke  3\n",
            "nilai a : -1.0\n",
            "nilai b : 4.0\n",
            "interval tidak dapat digunakan\n"
          ]
        },
        {
          "output_type": "display_data",
          "data": {
            "text/plain": [
              "<Figure size 1000x600 with 1 Axes>"
            ],
            "image/png": "[encoded data removed]"
          },
          "metadata": {}
        },
        {
          "output_type": "stream",
          "name": "stdout",
          "text": [
            "Akar yang ditemukan adalah x = -1.0\n"
          ]
        }
      ]
    }
  ]
}
